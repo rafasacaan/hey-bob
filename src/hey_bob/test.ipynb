{
 "cells": [
  {
   "cell_type": "code",
   "execution_count": 1,
   "metadata": {},
   "outputs": [],
   "source": [
    "import pandas as pd\n",
    "import random\n",
    "from pathlib import Path"
   ]
  },
  {
   "cell_type": "code",
   "execution_count": 2,
   "metadata": {},
   "outputs": [],
   "source": [
    "def load_csv():\n",
    "    current_dir = Path(__file__).parent\n",
    "    data_file = current_dir / 'data' / 'lyrics.csv'\n",
    "    \n",
    "    if not data_file.exists():\n",
    "        raise FileNotFoundError(f\"Could not find data file at {data_file}\")\n",
    "    \n",
    "    return pd.read_pickle(data_file)"
   ]
  },
  {
   "cell_type": "code",
   "execution_count": 8,
   "metadata": {},
   "outputs": [
    {
     "name": "stdout",
     "output_type": "stream",
     "text": [
      "CPU times: user 12.1 ms, sys: 4.7 ms, total: 16.8 ms\n",
      "Wall time: 18.1 ms\n"
     ]
    }
   ],
   "source": [
    "%%time\n",
    "df = pd.read_csv('data/lyrics.csv')\n",
    "\n",
    "df.to_pickle('data/lyrics.pickle')"
   ]
  },
  {
   "cell_type": "code",
   "execution_count": 9,
   "metadata": {},
   "outputs": [
    {
     "name": "stdout",
     "output_type": "stream",
     "text": [
      "CPU times: user 7.68 ms, sys: 4.16 ms, total: 11.8 ms\n",
      "Wall time: 12.5 ms\n"
     ]
    }
   ],
   "source": [
    "%%time\n",
    "df = pd.read_csv('data/lyrics.csv')"
   ]
  },
  {
   "cell_type": "code",
   "execution_count": 10,
   "metadata": {},
   "outputs": [
    {
     "name": "stdout",
     "output_type": "stream",
     "text": [
      "CPU times: user 1.91 ms, sys: 2.51 ms, total: 4.42 ms\n",
      "Wall time: 3.83 ms\n"
     ]
    }
   ],
   "source": [
    "%%time\n",
    "df2 = pd.read_pickle('data/lyrics.pickle')"
   ]
  },
  {
   "cell_type": "code",
   "execution_count": 6,
   "metadata": {},
   "outputs": [
    {
     "data": {
      "text/html": [
       "<div>\n",
       "<style scoped>\n",
       "    .dataframe tbody tr th:only-of-type {\n",
       "        vertical-align: middle;\n",
       "    }\n",
       "\n",
       "    .dataframe tbody tr th {\n",
       "        vertical-align: top;\n",
       "    }\n",
       "\n",
       "    .dataframe thead th {\n",
       "        text-align: right;\n",
       "    }\n",
       "</style>\n",
       "<table border=\"1\" class=\"dataframe\">\n",
       "  <thead>\n",
       "    <tr style=\"text-align: right;\">\n",
       "      <th></th>\n",
       "      <th>release_year</th>\n",
       "      <th>album</th>\n",
       "      <th>title</th>\n",
       "      <th>lyrics</th>\n",
       "    </tr>\n",
       "  </thead>\n",
       "  <tbody>\n",
       "    <tr>\n",
       "      <th>0</th>\n",
       "      <td>1961</td>\n",
       "      <td>The Bootleg Series, Vol 1-3: Rare &amp; Unreleased...</td>\n",
       "      <td>Hard Times In New York Town</td>\n",
       "      <td>Come you ladies and you gentlemen, a-listen to...</td>\n",
       "    </tr>\n",
       "    <tr>\n",
       "      <th>1</th>\n",
       "      <td>1961</td>\n",
       "      <td>The Bootleg Series, Vol 1-3: Rare &amp; Unreleased...</td>\n",
       "      <td>Man on the street</td>\n",
       "      <td>’ll sing you a song, ain’t very long\\n\\n’Bout ...</td>\n",
       "    </tr>\n",
       "    <tr>\n",
       "      <th>2</th>\n",
       "      <td>1962</td>\n",
       "      <td>The Bootleg Series, Vol 1-3: Rare &amp; Unreleased...</td>\n",
       "      <td>Talkin’ Bear Mountain Picnic Massacre Blues</td>\n",
       "      <td>I saw it advertised one day\\n\\nBear Mountain p...</td>\n",
       "    </tr>\n",
       "    <tr>\n",
       "      <th>3</th>\n",
       "      <td>1962</td>\n",
       "      <td>The Bootleg Series, Vol 1-3: Rare &amp; Unreleased...</td>\n",
       "      <td>Let Me Die in My Footsteps</td>\n",
       "      <td>I will not go down under the ground\\n\\n’Cause ...</td>\n",
       "    </tr>\n",
       "    <tr>\n",
       "      <th>4</th>\n",
       "      <td>1962</td>\n",
       "      <td>The Bootleg Series, Vol 1-3: Rare &amp; Unreleased...</td>\n",
       "      <td>Rambling, Gambling Willie</td>\n",
       "      <td>Come around you rovin’ gamblers and a story I ...</td>\n",
       "    </tr>\n",
       "    <tr>\n",
       "      <th>...</th>\n",
       "      <td>...</td>\n",
       "      <td>...</td>\n",
       "      <td>...</td>\n",
       "      <td>...</td>\n",
       "    </tr>\n",
       "    <tr>\n",
       "      <th>340</th>\n",
       "      <td>2020</td>\n",
       "      <td>Rough and Rowdy Ways</td>\n",
       "      <td>I’ve Made Up My Mind to Give Myself to You</td>\n",
       "      <td>Sitting on my terrace lost in the stars\\n\\nLis...</td>\n",
       "    </tr>\n",
       "    <tr>\n",
       "      <th>341</th>\n",
       "      <td>2020</td>\n",
       "      <td>Rough and Rowdy Ways</td>\n",
       "      <td>Black Rider</td>\n",
       "      <td>Black Rider Black Rider you been livin’ too ha...</td>\n",
       "    </tr>\n",
       "    <tr>\n",
       "      <th>342</th>\n",
       "      <td>2020</td>\n",
       "      <td>Rough and Rowdy Ways</td>\n",
       "      <td>Goodbye Jimmy Reed</td>\n",
       "      <td>I live on a street named after a Saint\\n\\nWome...</td>\n",
       "    </tr>\n",
       "    <tr>\n",
       "      <th>343</th>\n",
       "      <td>2020</td>\n",
       "      <td>Rough and Rowdy Ways</td>\n",
       "      <td>Mother of Muses</td>\n",
       "      <td>Mother of Muses sing for me\\n\\nSing of the mou...</td>\n",
       "    </tr>\n",
       "    <tr>\n",
       "      <th>344</th>\n",
       "      <td>2020</td>\n",
       "      <td>Rough and Rowdy Ways</td>\n",
       "      <td>I Contain Multitudes</td>\n",
       "      <td>Today and tomorrow and yesterday too\\n\\nThe fl...</td>\n",
       "    </tr>\n",
       "  </tbody>\n",
       "</table>\n",
       "<p>345 rows × 4 columns</p>\n",
       "</div>"
      ],
      "text/plain": [
       "     release_year                                              album  \\\n",
       "0            1961  The Bootleg Series, Vol 1-3: Rare & Unreleased...   \n",
       "1            1961  The Bootleg Series, Vol 1-3: Rare & Unreleased...   \n",
       "2            1962  The Bootleg Series, Vol 1-3: Rare & Unreleased...   \n",
       "3            1962  The Bootleg Series, Vol 1-3: Rare & Unreleased...   \n",
       "4            1962  The Bootleg Series, Vol 1-3: Rare & Unreleased...   \n",
       "..            ...                                                ...   \n",
       "340          2020                               Rough and Rowdy Ways   \n",
       "341          2020                               Rough and Rowdy Ways   \n",
       "342          2020                               Rough and Rowdy Ways   \n",
       "343          2020                               Rough and Rowdy Ways   \n",
       "344          2020                               Rough and Rowdy Ways   \n",
       "\n",
       "                                           title  \\\n",
       "0                    Hard Times In New York Town   \n",
       "1                              Man on the street   \n",
       "2    Talkin’ Bear Mountain Picnic Massacre Blues   \n",
       "3                     Let Me Die in My Footsteps   \n",
       "4                      Rambling, Gambling Willie   \n",
       "..                                           ...   \n",
       "340   I’ve Made Up My Mind to Give Myself to You   \n",
       "341                                  Black Rider   \n",
       "342                           Goodbye Jimmy Reed   \n",
       "343                              Mother of Muses   \n",
       "344                         I Contain Multitudes   \n",
       "\n",
       "                                                lyrics  \n",
       "0    Come you ladies and you gentlemen, a-listen to...  \n",
       "1    ’ll sing you a song, ain’t very long\\n\\n’Bout ...  \n",
       "2    I saw it advertised one day\\n\\nBear Mountain p...  \n",
       "3    I will not go down under the ground\\n\\n’Cause ...  \n",
       "4    Come around you rovin’ gamblers and a story I ...  \n",
       "..                                                 ...  \n",
       "340  Sitting on my terrace lost in the stars\\n\\nLis...  \n",
       "341  Black Rider Black Rider you been livin’ too ha...  \n",
       "342  I live on a street named after a Saint\\n\\nWome...  \n",
       "343  Mother of Muses sing for me\\n\\nSing of the mou...  \n",
       "344  Today and tomorrow and yesterday too\\n\\nThe fl...  \n",
       "\n",
       "[345 rows x 4 columns]"
      ]
     },
     "execution_count": 6,
     "metadata": {},
     "output_type": "execute_result"
    }
   ],
   "source": [
    "df"
   ]
  },
  {
   "cell_type": "code",
   "execution_count": 29,
   "metadata": {},
   "outputs": [],
   "source": [
    "\n",
    "def get_random_lyrics(df, year=None):\n",
    "    if year is not None:\n",
    "        available_years = sorted(df['release_year'].unique())\n",
    "        \n",
    "        if year not in available_years:\n",
    "            closest_year = min(available_years, key=lambda x: abs(x - year))\n",
    "            filtered_df = df[df['release_year'] == closest_year]\n",
    "        else:\n",
    "            filtered_df = df[df['release_year'] == year]\n",
    "    else:\n",
    "        filtered_df = df\n",
    "        \n",
    "    selected_song = filtered_df.sample(n=1).iloc[0]\n",
    "\n",
    "    # Extract song data\n",
    "    song_name, song_year = selected_song.title, selected_song.release_year\n",
    "    \n",
    "    # Split into lines\n",
    "    lines = [line.strip() for line in selected_song['lyrics'].split('\\n') if line.strip()]\n",
    "    \n",
    "    # Select a random starting point\n",
    "    start_index = random.randint(0, max(0, len(lines) - 4))\n",
    "    \n",
    "    # Get up to 4 consecutive lines\n",
    "    selected_lines = lines[start_index:start_index + 4]\n",
    "    \n",
    "    # Join the lines with newlines\n",
    "    selected_text = '\\n'.join(selected_lines)\n",
    "    \n",
    "    return song_name, song_year, selected_text"
   ]
  },
  {
   "cell_type": "code",
   "execution_count": 30,
   "metadata": {},
   "outputs": [],
   "source": [
    "song_name, song_year, selected_text = get_random_lyrics(df, year=None)"
   ]
  },
  {
   "cell_type": "code",
   "execution_count": 31,
   "metadata": {},
   "outputs": [
    {
     "data": {
      "text/plain": [
       "('Open the Door, Homer',\n",
       " 1975,\n",
       " 'If he don’t expect to be\\nGoin’ ’round housing flushes\\nOpen the door, Homer\\nI’ve heard it said before')"
      ]
     },
     "execution_count": 31,
     "metadata": {},
     "output_type": "execute_result"
    }
   ],
   "source": [
    "song_name, song_year, selected_text"
   ]
  },
  {
   "cell_type": "code",
   "execution_count": null,
   "metadata": {},
   "outputs": [],
   "source": []
  }
 ],
 "metadata": {
  "kernelspec": {
   "display_name": ".venv",
   "language": "python",
   "name": "python3"
  },
  "language_info": {
   "codemirror_mode": {
    "name": "ipython",
    "version": 3
   },
   "file_extension": ".py",
   "mimetype": "text/x-python",
   "name": "python",
   "nbconvert_exporter": "python",
   "pygments_lexer": "ipython3",
   "version": "3.8.20"
  }
 },
 "nbformat": 4,
 "nbformat_minor": 2
}
